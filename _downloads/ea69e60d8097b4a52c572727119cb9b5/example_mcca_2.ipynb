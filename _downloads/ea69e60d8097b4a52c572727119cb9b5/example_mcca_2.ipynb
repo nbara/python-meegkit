{
  "cells": [
    {
      "cell_type": "markdown",
      "metadata": {},
      "source": [
        "\n# mCCA example: Sinusoidal target in separable noise\n\nReproduced from de Cheveign\u00e9 et al. (2018).\n\nSynthetic data for this example consisted of 10 data matrices, each of\ndimensions 10000 samples x 10 channels. Each was obtained by multiplying 9\nGaussian noise time series (independent and uncorrelated) by a 9 x 10 mixing\nmatrix with random Gaussian coefficients. To this background of noise was added\na \"target\" consisting of a sinusoidal time series multiplied by a 1 x 10 mixing\nmatrix with random coefficients. The target was the same for all data matrices,\nbut the mixing matrices differed, as were the noise matrices. The SNR was set\nto 10\u221220, i.e. a very unfavorable SNR. The noise is of rank 9 and the signal of\nrank 1, so signal and noise are in principle linearly separable.\n\nUses meegkit.cca.mmca()\n"
      ]
    },
    {
      "cell_type": "code",
      "execution_count": null,
      "metadata": {
        "collapsed": false
      },
      "outputs": [],
      "source": [
        "import matplotlib.pyplot as plt\nimport numpy as np\n\nfrom meegkit import cca\n\n# Set the seed for the random number generator for reproducibility\nrng = np.random.default_rng(5)"
      ]
    },
    {
      "cell_type": "markdown",
      "metadata": {},
      "source": [
        "## Generate toy data\nConstants\n\n"
      ]
    },
    {
      "cell_type": "code",
      "execution_count": null,
      "metadata": {
        "collapsed": false
      },
      "outputs": [],
      "source": [
        "num_matrices = 10\nnum_samples = 10000\nnum_channels = 10\nnoise_rank = 9\nsignal_rank = 1\nunfavorable_SNR_dB = -20  # SNR in decibels\n\n# Generate noise matrices and mixing matrices\nnoise_matrices = [rng.normal(size=(num_samples, noise_rank))\n                  for _ in range(num_matrices)]\nmixing_matrices = [rng.normal(size=(noise_rank, num_channels))\n                   for _ in range(num_matrices)]\n\n# Generate sinusoidal target\nt = np.linspace(0, 1, num_samples)\ntarget_signal = np.sin(2 * np.pi * t)  # 1 Hz sinusoidal signal\n\n# Generate signal mixing matrix\nsignal_mixing_matrix = rng.normal(size=(signal_rank, num_channels))\n\n# Prepare data matrices\ndata_matrices = []\nfor i in range(num_matrices):\n    # Create noise for current data matrix\n    noise = np.matmul(noise_matrices[i], mixing_matrices[i])\n\n    # Create signal for current data matrix\n    signal = np.matmul(target_signal.reshape(-1, 1), signal_mixing_matrix)\n\n    # Adjust the power of signal to achieve the desired SNR\n    noise_power = np.mean(noise**2)\n    signal_power = 10**(unfavorable_SNR_dB / 10) * noise_power\n    signal = np.sqrt(signal_power / np.mean(signal**2)) * signal\n\n    # Add signal and noise\n    data_matrix = signal + noise\n\n    data_matrices.append(data_matrix)\n\n# Concatenate data matrices\nx = np.concatenate(data_matrices, axis=-1)"
      ]
    },
    {
      "cell_type": "markdown",
      "metadata": {},
      "source": [
        "## Use mCCA to recover signal in noise\n\n"
      ]
    },
    {
      "cell_type": "code",
      "execution_count": null,
      "metadata": {
        "collapsed": false
      },
      "outputs": [],
      "source": [
        "# Compute Covariance matrix\nC = np.dot(x.T, x)\n\n# Compute mCCA from covariance\nA, score, AA = cca.mcca(C, 10)\n\n# Compute the recovered signal using first SC\nx_recovered = x.dot(A)[:, 0]\n\n# Normalize the recovered signal\nx_recovered = x_recovered / x_recovered.std()\n\n# Compute variance across SCs\nvariance = np.var(x.dot(A), axis=0)"
      ]
    },
    {
      "cell_type": "markdown",
      "metadata": {},
      "source": [
        "## Plot the results\n\n"
      ]
    },
    {
      "cell_type": "code",
      "execution_count": null,
      "metadata": {
        "collapsed": false
      },
      "outputs": [],
      "source": [
        "fig, ax = plt.subplots(1, 4, figsize=(12, 4))\nax[0].plot(target_signal)\nax[0].set_title(\"Target\")\nax[0].set_xlabel(\"Sample\")\nax[0].set_ylabel(\"Amplitude\")\nax[1].plot(data_matrix)\nax[1].set_title(\"Target + Noise\")\nax[1].set_ylabel(\"Amplitude\")\nax[1].set_xlabel(\"Sample\")\nax[2].plot(variance, \"o-k\")\nax[2].set_xlabel(\"SC\")\nax[2].set_ylabel(\"Variance\")\nax[3].plot(x_recovered)\nax[3].set_title(\"Recovered\")\nax[3].set_ylabel(\"Amplitude\")\nax[3].set_xlabel(\"Sample\")\nplt.tight_layout()\nplt.show()"
      ]
    }
  ],
  "metadata": {
    "kernelspec": {
      "display_name": "Python 3",
      "language": "python",
      "name": "python3"
    },
    "language_info": {
      "codemirror_mode": {
        "name": "ipython",
        "version": 3
      },
      "file_extension": ".py",
      "mimetype": "text/x-python",
      "name": "python",
      "nbconvert_exporter": "python",
      "pygments_lexer": "ipython3",
      "version": "3.10.18"
    }
  },
  "nbformat": 4,
  "nbformat_minor": 0
}