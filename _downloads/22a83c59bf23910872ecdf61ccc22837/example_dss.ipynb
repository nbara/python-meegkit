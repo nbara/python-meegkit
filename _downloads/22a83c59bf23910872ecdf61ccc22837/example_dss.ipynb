{
  "cells": [
    {
      "cell_type": "markdown",
      "metadata": {},
      "source": [
        "\n# DSS example\n\nFind the linear combinations of multichannel data that maximize repeatability\nover trials.\n\nUses meegkit.dss0().\n"
      ]
    },
    {
      "cell_type": "code",
      "execution_count": null,
      "metadata": {
        "collapsed": false
      },
      "outputs": [],
      "source": [
        "import matplotlib.pyplot as plt\nimport numpy as np\n\nfrom meegkit import dss\nfrom meegkit.utils import fold, rms, tscov, unfold\n\nrng = np.random.default_rng(5)"
      ]
    },
    {
      "cell_type": "markdown",
      "metadata": {},
      "source": [
        "## Create simulated data\n\n"
      ]
    },
    {
      "cell_type": "code",
      "execution_count": null,
      "metadata": {
        "collapsed": false
      },
      "outputs": [],
      "source": [
        "# Data are time * channel * trials.\nn_samples = 100 * 3\nn_chans = 30\nn_trials = 100\nnoise_dim = 20  # dimensionality of noise\n\n# Source signal\nsource = np.hstack((\n    np.zeros((n_samples // 3,)),\n    np.sin(2 * np.pi * np.arange(n_samples // 3) / (n_samples / 3)).T,\n    np.zeros((n_samples // 3,))))[np.newaxis].T\ns = source * rng.standard_normal((1, n_chans))  # 300 * 30\ns = s[:, :, np.newaxis]\ns = np.tile(s, (1, 1, 100))\n\n# Noise\nnoise = np.dot(\n    unfold(rng.standard_normal((n_samples, noise_dim, n_trials))),\n    rng.standard_normal((noise_dim, n_chans)))\nnoise = fold(noise, n_samples)\n\n# Mix signal and noise\nSNR = 0.1\ndata = noise / rms(noise.flatten()) + SNR * s / rms(s.flatten())"
      ]
    },
    {
      "cell_type": "markdown",
      "metadata": {},
      "source": [
        "## Apply DSS to clean them\n\n"
      ]
    },
    {
      "cell_type": "code",
      "execution_count": null,
      "metadata": {
        "collapsed": false
      },
      "outputs": [],
      "source": [
        "# Compute original and biased covariance matrices\nc0, _ = tscov(data)\n\n# In this case the biased covariance is simply the covariance of the mean over\n# trials\nc1, _ = tscov(np.mean(data, 2))\n\n# Apply DSS\n[todss, _, pwr0, pwr1] = dss.dss0(c0, c1)\nz = fold(np.dot(unfold(data), todss), epoch_size=n_samples)\n\n# Find best components\nbest_comp = np.mean(z[:, 0, :], -1)"
      ]
    },
    {
      "cell_type": "markdown",
      "metadata": {},
      "source": [
        "## Plot results\n\n"
      ]
    },
    {
      "cell_type": "code",
      "execution_count": null,
      "metadata": {
        "collapsed": false
      },
      "outputs": [],
      "source": [
        "f, (ax1, ax2, ax3) = plt.subplots(3, 1)\nax1.plot(source, label=\"source\")\nax2.plot(np.mean(data, 2), label=\"data\")\nax3.plot(best_comp, label=\"recovered\")\nplt.legend()\nplt.show()"
      ]
    }
  ],
  "metadata": {
    "kernelspec": {
      "display_name": "Python 3",
      "language": "python",
      "name": "python3"
    },
    "language_info": {
      "codemirror_mode": {
        "name": "ipython",
        "version": 3
      },
      "file_extension": ".py",
      "mimetype": "text/x-python",
      "name": "python",
      "nbconvert_exporter": "python",
      "pygments_lexer": "ipython3",
      "version": "3.10.18"
    }
  },
  "nbformat": 4,
  "nbformat_minor": 0
}