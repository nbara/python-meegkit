{
  "cells": [
    {
      "cell_type": "markdown",
      "metadata": {},
      "source": [
        "\n# Multiway canonical correlation analysis (mCCA)\n\nFind a set of components which are shared between different datasets.\n\nUses meegkit.cca.mmca()\n"
      ]
    },
    {
      "cell_type": "code",
      "execution_count": null,
      "metadata": {
        "collapsed": false
      },
      "outputs": [],
      "source": [
        "import matplotlib.pyplot as plt\nimport numpy as np\n\nfrom meegkit import cca\n\nrng = np.random.default_rng(5)"
      ]
    },
    {
      "cell_type": "markdown",
      "metadata": {},
      "source": [
        "## First example\nWe create 3 uncorrelated data sets. There should be no common structure\nbetween them.\n\n"
      ]
    },
    {
      "cell_type": "markdown",
      "metadata": {},
      "source": [
        "Build data\n\n"
      ]
    },
    {
      "cell_type": "code",
      "execution_count": null,
      "metadata": {
        "collapsed": false
      },
      "outputs": [],
      "source": [
        "x1 = rng.standard_normal((10000, 10))\nx2 = rng.standard_normal((10000, 10))\nx3 = rng.standard_normal((10000, 10))\nx = np.hstack((x1, x2, x3))\nC = np.dot(x.T, x)\nprint(f\"Aggregated data covariance shape: {C.shape}\")"
      ]
    },
    {
      "cell_type": "markdown",
      "metadata": {},
      "source": [
        "Apply CCA\n\n"
      ]
    },
    {
      "cell_type": "code",
      "execution_count": null,
      "metadata": {
        "collapsed": false
      },
      "outputs": [],
      "source": [
        "[A, score, AA] = cca.mcca(C, 10)\nz = x.dot(A)"
      ]
    },
    {
      "cell_type": "markdown",
      "metadata": {},
      "source": [
        "Plot results\n\n"
      ]
    },
    {
      "cell_type": "code",
      "execution_count": null,
      "metadata": {
        "collapsed": false
      },
      "outputs": [],
      "source": [
        "f, axes = plt.subplots(1, 3, figsize=(12, 4))\naxes[0].imshow(A, aspect=\"auto\")\naxes[0].set_title(\"mCCA transform matrix\")\naxes[1].imshow(A.T.dot(C.dot(A)), aspect=\"auto\")\naxes[1].set_title(\"Covariance of\\ntransformed data\")\naxes[2].imshow(x.T.dot(x.dot(A)), aspect=\"auto\")\naxes[2].set_title(\"Cross-correlation between\\nraw & transformed data\")\naxes[2].set_xlabel(\"transformed\")\naxes[2].set_ylabel(\"raw\")\nplt.plot(np.mean(z ** 2, axis=0))\nplt.show()"
      ]
    },
    {
      "cell_type": "markdown",
      "metadata": {},
      "source": [
        "## Second example\nNow Create 3 data sets with some shared parts.\n\n"
      ]
    },
    {
      "cell_type": "markdown",
      "metadata": {},
      "source": [
        "Build data\n\n"
      ]
    },
    {
      "cell_type": "code",
      "execution_count": null,
      "metadata": {
        "collapsed": false
      },
      "outputs": [],
      "source": [
        "x1 = rng.standard_normal((10000, 5))\nx2 = rng.standard_normal((10000, 5))\nx3 = rng.standard_normal((10000, 5))\nx4 = rng.standard_normal((10000, 5))\nx = np.hstack((x2, x1, x3, x1, x4, x1))\nC = np.dot(x.T, x)\nprint(f\"Aggregated data covariance shape: {C.shape}\")"
      ]
    },
    {
      "cell_type": "markdown",
      "metadata": {},
      "source": [
        "Apply mCCA\n\n"
      ]
    },
    {
      "cell_type": "code",
      "execution_count": null,
      "metadata": {
        "collapsed": false
      },
      "outputs": [],
      "source": [
        "A, score, AA = cca.mcca(C, 10)"
      ]
    },
    {
      "cell_type": "markdown",
      "metadata": {},
      "source": [
        "Plot results\n\n"
      ]
    },
    {
      "cell_type": "code",
      "execution_count": null,
      "metadata": {
        "collapsed": false
      },
      "outputs": [],
      "source": [
        "f, axes = plt.subplots(1, 3, figsize=(12, 4))\naxes[0].imshow(A, aspect=\"auto\")\naxes[0].set_title(\"mCCA transform matrix\")\naxes[1].imshow(A.T.dot(C.dot(A)), aspect=\"auto\")\naxes[1].set_title(\"Covariance of\\ntransformed data\")\naxes[2].imshow(x.T.dot(x.dot(A)), aspect=\"auto\")\naxes[2].set_title(\"Cross-correlation between\\nraw & transformed data\")\naxes[2].set_xlabel(\"transformed\")\naxes[2].set_ylabel(\"raw\")\nplt.show()"
      ]
    },
    {
      "cell_type": "markdown",
      "metadata": {},
      "source": [
        "## Third example\nFinally let's create 3 identical 10-channel data sets. Only 10 worthwhile\ncomponents should be found, and the transformed dataset should perfectly\nexplain all the variance (empty last two block-columns in the\ncross-correlation plot).\n\n"
      ]
    },
    {
      "cell_type": "markdown",
      "metadata": {},
      "source": [
        "Build data\n\n"
      ]
    },
    {
      "cell_type": "code",
      "execution_count": null,
      "metadata": {
        "collapsed": false
      },
      "outputs": [],
      "source": [
        "x1 = rng.standard_normal((10000, 10))\nx = np.hstack((x1, x1, x1))\nC = np.dot(x.T, x)\nprint(f\"Aggregated data covariance shape: {C.shape}\")"
      ]
    },
    {
      "cell_type": "markdown",
      "metadata": {},
      "source": [
        "Compute mCCA\n\n"
      ]
    },
    {
      "cell_type": "code",
      "execution_count": null,
      "metadata": {
        "collapsed": false
      },
      "outputs": [],
      "source": [
        "A, score, AA = cca.mcca(C, 10)"
      ]
    },
    {
      "cell_type": "markdown",
      "metadata": {},
      "source": [
        "Plot results\n\n"
      ]
    },
    {
      "cell_type": "code",
      "execution_count": null,
      "metadata": {
        "collapsed": false
      },
      "outputs": [],
      "source": [
        "f, axes = plt.subplots(1, 3, figsize=(12, 4))\naxes[0].imshow(A, aspect=\"auto\")\naxes[0].set_title(\"mCCA transform matrix\")\naxes[1].imshow(A.T.dot(C.dot(A)), aspect=\"auto\")\naxes[1].set_title(\"Covariance of\\ntransformed data\")\naxes[2].imshow(x.T.dot(x.dot(A)), aspect=\"auto\")\naxes[2].set_title(\"Cross-correlation between\\nraw & transformed data\")\naxes[2].set_xlabel(\"transformed\")\naxes[2].set_ylabel(\"raw\")\nplt.show()"
      ]
    }
  ],
  "metadata": {
    "kernelspec": {
      "display_name": "Python 3",
      "language": "python",
      "name": "python3"
    },
    "language_info": {
      "codemirror_mode": {
        "name": "ipython",
        "version": 3
      },
      "file_extension": ".py",
      "mimetype": "text/x-python",
      "name": "python",
      "nbconvert_exporter": "python",
      "pygments_lexer": "ipython3",
      "version": "3.10.18"
    }
  },
  "nbformat": 4,
  "nbformat_minor": 0
}