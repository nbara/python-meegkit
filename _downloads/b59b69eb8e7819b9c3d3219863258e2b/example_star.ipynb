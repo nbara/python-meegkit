{
  "cells": [
    {
      "cell_type": "markdown",
      "metadata": {},
      "source": [
        "\n# Sparse time artifact removal on simulated data\n\nThis example is similar to test_nt_star.m in Noisetools. Results are equivalent\n(within numerical precision) to the Matlab code.\n"
      ]
    },
    {
      "cell_type": "code",
      "execution_count": null,
      "metadata": {
        "collapsed": false
      },
      "outputs": [],
      "source": [
        "import matplotlib.pyplot as plt\nimport numpy as np\n\nfrom meegkit import star\nfrom meegkit.utils import demean, normcol\n\nrng = np.random.default_rng(9)"
      ]
    },
    {
      "cell_type": "markdown",
      "metadata": {},
      "source": [
        "## Create simulated data\nSimulated data consist of N channels, 1 sinusoidal target, N-3 noise sources,\nwith temporally local artifacts on each channel.\n\n"
      ]
    },
    {
      "cell_type": "code",
      "execution_count": null,
      "metadata": {
        "collapsed": false
      },
      "outputs": [],
      "source": [
        "# Create simulated data\nnchans = 10\nn_samples = 1000\nf = 2\ntarget = np.sin(np.arange(n_samples) / n_samples * 2 * np.pi * f)\ntarget = target[:, np.newaxis]\nnoise = rng.standard_normal((n_samples, nchans - 3))\n\n# Create artifact signal\nSNR = np.sqrt(1)\nx0 = normcol(np.dot(noise, rng.standard_normal((noise.shape[1], nchans)))) + \\\n    SNR * target * rng.standard_normal((1, nchans))\nx0 = demean(x0)\nartifact = np.zeros(x0.shape)\nfor k in np.arange(nchans):\n    artifact[k * 100 + np.arange(20), k] = 1\nx = x0 + 10 * artifact\n\n# This is to compare with matlab numerically\n# from scipy.io import loadmat\n# mat = loadmat('/Users/nicolas/Toolboxes/NoiseTools/TEST/X.mat')\n# x = mat['x']\n# x0 = mat['x0']"
      ]
    },
    {
      "cell_type": "markdown",
      "metadata": {},
      "source": [
        "## Apply STAR\n\n"
      ]
    },
    {
      "cell_type": "code",
      "execution_count": null,
      "metadata": {
        "collapsed": false
      },
      "outputs": [],
      "source": [
        "y, w, _ = star.star(x, 2)"
      ]
    },
    {
      "cell_type": "markdown",
      "metadata": {},
      "source": [
        "## Plot results\n\n"
      ]
    },
    {
      "cell_type": "code",
      "execution_count": null,
      "metadata": {
        "collapsed": false
      },
      "outputs": [],
      "source": [
        "f, (ax1, ax2, ax3) = plt.subplots(3, 1)\nax1.plot(x, lw=.5)\nax1.set_title(f\"Signal + Artifacts (SNR = {SNR})\")\nax2.plot(y, lw=.5)\nax2.set_title(\"Denoised\")\nax3.plot(demean(y) - x0, lw=.5)\nax3.set_title(\"Residual\")\nf.set_tight_layout(True)\nplt.show()"
      ]
    }
  ],
  "metadata": {
    "kernelspec": {
      "display_name": "Python 3",
      "language": "python",
      "name": "python3"
    },
    "language_info": {
      "codemirror_mode": {
        "name": "ipython",
        "version": 3
      },
      "file_extension": ".py",
      "mimetype": "text/x-python",
      "name": "python",
      "nbconvert_exporter": "python",
      "pygments_lexer": "ipython3",
      "version": "3.10.18"
    }
  },
  "nbformat": 4,
  "nbformat_minor": 0
}