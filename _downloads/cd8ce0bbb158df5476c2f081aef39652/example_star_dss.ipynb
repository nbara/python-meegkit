{
  "cells": [
    {
      "cell_type": "markdown",
      "metadata": {},
      "source": [
        "\n# Example demonstrating STAR + DSS\n\nThis example shows how one can effectively combine STAR and DSS to recover\nsignal components which would not have been discoverable with either these\ntwo techniques alone, due to the presence of strong artifacts.\n\nThis example replicates figure 1 in [1]_.\n\n## References\n.. [1] de Cheveign\u00e9 A (2016) Sparse Time Artifact Removal, Journal of\n   Neuroscience Methods, 262, 14-20, doi:10.1016/j.jneumeth.2016.01.005\n"
      ]
    },
    {
      "cell_type": "code",
      "execution_count": null,
      "metadata": {
        "collapsed": false
      },
      "outputs": [],
      "source": [
        "import matplotlib.pyplot as plt\nimport numpy as np\nfrom scipy.optimize import leastsq\n\nfrom meegkit import dss, star\nfrom meegkit.utils import demean, normcol, tscov\n\n# import config  # noqa\n\nrng = np.random.default_rng(9)"
      ]
    },
    {
      "cell_type": "markdown",
      "metadata": {},
      "source": [
        "## Create simulated data\nSimulated data consist of N channels, 1 sinusoidal target, N-3 noise sources,\nwith temporally local artifacts on each channel.\n\n"
      ]
    },
    {
      "cell_type": "code",
      "execution_count": null,
      "metadata": {
        "collapsed": false
      },
      "outputs": [],
      "source": [
        "# Source\nn_chans, n_samples = 10, 1000\nf = 2\ntarget = np.sin(np.arange(n_samples) / n_samples * 2 * np.pi * f)\ntarget = target[:, np.newaxis]\nnoise = rng.standard_normal((n_samples, n_chans - 3))\n\n# Create artifact signal\nSNR = np.sqrt(1)\nx0 = normcol(np.dot(noise, rng.standard_normal((noise.shape[1], n_chans)))) + \\\n    SNR * target * rng.standard_normal((1, n_chans))\nx0 = demean(x0)\nartifact = np.zeros(x0.shape)\nfor k in np.arange(n_chans):\n    artifact[k * 100 + np.arange(20), k] = 1\nx = x0 + 10 * artifact\n\n\ndef _sine_fit(x):\n    \"\"\"Fit a sinusoidal trend.\"\"\"\n    guess_mean = np.mean(x)\n    guess_std = np.std(x)\n    guess_phase = 0\n    t = np.linspace(0, 4 * np.pi, x.shape[0])\n\n    # Optimization function, in this case, we want to minimize the difference\n    # between the actual data and our \"guessed\" parameters\n    def func(y):\n        return np.mean(x - (y[0] * np.sin(t + y[1]) + y[2])[:, None], 1)\n\n    est_std, est_phase, est_mean = leastsq(\n        func, [guess_std, guess_phase, guess_mean])[0]\n    data_fit = est_std * np.sin(t + est_phase) + est_mean\n    return np.tile(data_fit, (x.shape[1], 1)).T"
      ]
    },
    {
      "cell_type": "markdown",
      "metadata": {},
      "source": [
        "## 1) Apply STAR\n\n"
      ]
    },
    {
      "cell_type": "code",
      "execution_count": null,
      "metadata": {
        "collapsed": false
      },
      "outputs": [],
      "source": [
        "y, w, _ = star.star(x, 2)"
      ]
    },
    {
      "cell_type": "markdown",
      "metadata": {},
      "source": [
        "## 2) Apply DSS on raw data\n\n"
      ]
    },
    {
      "cell_type": "code",
      "execution_count": null,
      "metadata": {
        "collapsed": false
      },
      "outputs": [],
      "source": [
        "c0, _ = tscov(x)\nc1, _ = tscov(x - _sine_fit(x))\n[todss, _, pwr0, pwr1] = dss.dss0(c0, c1)\nz1 = normcol(np.dot(x, todss))"
      ]
    },
    {
      "cell_type": "markdown",
      "metadata": {},
      "source": [
        "## 3) Apply DSS on STAR-ed data\nHere the bias function is the original signal minus the sinusoidal trend.\n\n"
      ]
    },
    {
      "cell_type": "code",
      "execution_count": null,
      "metadata": {
        "collapsed": false
      },
      "outputs": [],
      "source": [
        "c0, _ = tscov(y)\nc1, _ = tscov(y - _sine_fit(y))\n[todss, _, pwr0, pwr1] = dss.dss0(c0, c1)\nz2 = normcol(np.dot(y, todss))"
      ]
    },
    {
      "cell_type": "markdown",
      "metadata": {},
      "source": [
        "## Plots\n\n"
      ]
    },
    {
      "cell_type": "code",
      "execution_count": null,
      "metadata": {
        "collapsed": false
      },
      "outputs": [],
      "source": [
        "f, (ax0, ax1, ax2, ax3) = plt.subplots(4, 1, figsize=(7, 9))\nax0.plot(target, lw=.5)\nax0.set_title(\"Target\")\n\nax1.plot(x, lw=.5)\nax1.set_title(f\"Signal + Artifacts (SNR = {SNR})\")\n\nax2.plot(z1[:, 0], lw=.5, label=\"Best DSS component\")\nax2.set_title(\"DSS\")\nax2.legend(loc=\"lower right\")\n\nax3.plot(z2[:, 0], lw=.5, label=\"Best DSS component\")\nax3.set_title(\"STAR + DSS\")\nax3.legend(loc=\"lower right\")\n\nf.set_tight_layout(True)\nplt.show()"
      ]
    }
  ],
  "metadata": {
    "kernelspec": {
      "display_name": "Python 3",
      "language": "python",
      "name": "python3"
    },
    "language_info": {
      "codemirror_mode": {
        "name": "ipython",
        "version": 3
      },
      "file_extension": ".py",
      "mimetype": "text/x-python",
      "name": "python",
      "nbconvert_exporter": "python",
      "pygments_lexer": "ipython3",
      "version": "3.10.18"
    }
  },
  "nbformat": 4,
  "nbformat_minor": 0
}