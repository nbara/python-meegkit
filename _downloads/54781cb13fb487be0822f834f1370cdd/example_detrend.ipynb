{
  "cells": [
    {
      "cell_type": "markdown",
      "metadata": {},
      "source": [
        "\n# Robust detrending examples\n\nSome toy examples to showcase usage for ``meegkit.detrend`` module.\n\nRobust referencing is adapted from [1].\n\n## References\n> [1] de Cheveign\u00e9, A., & Arzounian, D. (2018). Robust detrending,\n  rereferencing, outlier detection, and inpainting for multichannel data.\n  NeuroImage, 172, 903-912.\n"
      ]
    },
    {
      "cell_type": "code",
      "execution_count": null,
      "metadata": {
        "collapsed": false
      },
      "outputs": [],
      "source": [
        "import matplotlib.pyplot as plt\nimport numpy as np\nfrom matplotlib.gridspec import GridSpec\n\nfrom meegkit.detrend import detrend, regress\n\n# import config  # plotting utils\n\nrng = np.random.default_rng(9)"
      ]
    },
    {
      "cell_type": "markdown",
      "metadata": {},
      "source": [
        "# Regression\n\n"
      ]
    },
    {
      "cell_type": "markdown",
      "metadata": {},
      "source": [
        "## Simple regression example, no weights\nWe first try to fit a simple random walk process.\n\n"
      ]
    },
    {
      "cell_type": "code",
      "execution_count": null,
      "metadata": {
        "collapsed": false
      },
      "outputs": [],
      "source": [
        "x = np.cumsum(rng.standard_normal((1000, 1)), axis=0)\nr = np.arange(1000.)[:, None]\nr = np.hstack([r, r ** 2, r ** 3])\nb, y = regress(x, r)\n\nplt.figure(1)\nplt.plot(x, label=\"data\")\nplt.plot(y, label=\"fit\")\nplt.title(\"No weights\")\nplt.legend()\nplt.show()"
      ]
    },
    {
      "cell_type": "markdown",
      "metadata": {},
      "source": [
        "## Downweight 1st half of the data\nWe can also use weights for each time sample. Here we explicitly restrict the\nfit to the second half of the data by setting weights to zero for the first\n500 samples.\n\n"
      ]
    },
    {
      "cell_type": "code",
      "execution_count": null,
      "metadata": {
        "collapsed": false
      },
      "outputs": [],
      "source": [
        "x = np.cumsum(rng.standard_normal((1000, 1)), axis=0) + 1000\nw = np.ones(y.shape[0])\nw[:500] = 0\nb, y = regress(x, r, w)\n\nf = plt.figure(3)\ngs = GridSpec(4, 1, figure=f)\nax1 = f.add_subplot(gs[:3, 0])\nax1.plot(x, label=\"data\")\nax1.plot(y, label=\"fit\")\nax1.set_xticklabels(\"\")\nax1.set_title(\"Split-wise regression\")\nax1.legend()\nax2 = f.add_subplot(gs[3, 0])\nll, = ax2.plot(np.arange(1000), np.zeros(1000))\nax2.stackplot(np.arange(1000), w, labels=[\"weights\"], color=ll.get_color())\nax2.legend(loc=2)"
      ]
    },
    {
      "cell_type": "markdown",
      "metadata": {},
      "source": [
        "## Multichannel regression\n\n"
      ]
    },
    {
      "cell_type": "code",
      "execution_count": null,
      "metadata": {
        "collapsed": false
      },
      "outputs": [],
      "source": [
        "x = np.cumsum(rng.standard_normal((1000, 2)), axis=0)\nw = np.ones(y.shape[0])\nb, y = regress(x, r, w)\n\nplt.figure(4)\nplt.plot(x, label=\"data\", color=\"C0\")\nplt.plot(y, ls=\":\", label=\"fit\", color=\"C1\")\nplt.title(\"Channel-wise regression\")\nplt.legend()"
      ]
    },
    {
      "cell_type": "markdown",
      "metadata": {},
      "source": [
        "# Detrending\n\n"
      ]
    },
    {
      "cell_type": "markdown",
      "metadata": {},
      "source": [
        "## Basic example with a linear trend\n\n"
      ]
    },
    {
      "cell_type": "code",
      "execution_count": null,
      "metadata": {
        "collapsed": false
      },
      "outputs": [],
      "source": [
        "x = np.arange(100)[:, None]\nx = x + rng.standard_normal(x.shape)\ny, _, _ = detrend(x, 1)\n\nplt.figure(5)\nplt.plot(x, label=\"original\")\nplt.plot(y, label=\"detrended\")\nplt.legend()"
      ]
    },
    {
      "cell_type": "markdown",
      "metadata": {},
      "source": [
        "## Detrend biased random walk with a third-order polynomial\n\n"
      ]
    },
    {
      "cell_type": "code",
      "execution_count": null,
      "metadata": {
        "collapsed": false
      },
      "outputs": [],
      "source": [
        "x = np.cumsum(rng.standard_normal((1000, 1)) + 0.1)\ny, _, _ = detrend(x, 3)\n\nplt.figure(6)\nplt.plot(x, label=\"original\")\nplt.plot(y, label=\"detrended\")\nplt.legend()"
      ]
    },
    {
      "cell_type": "markdown",
      "metadata": {},
      "source": [
        "## Detrend with weights\nFinally, we show how the detrending process handles local artifacts, and how\nwe can advantageously use weights to improve detrending. The raw data\nconsists of gaussian noise with a linear trend, and a storng glitch covering\nthe first 100 timesamples (blue trace). Detrending without weights (orange\ntrace) causes an overestimation of the polynomial order because of the\nglitch, leading to a mediocre fit. When downweightining this artifactual\nperiod, the fit is much improved (green trace).\n\n"
      ]
    },
    {
      "cell_type": "code",
      "execution_count": null,
      "metadata": {
        "collapsed": false
      },
      "outputs": [],
      "source": [
        "x = np.linspace(0, 100, 1000)[:, None]\nx = x + 3 * rng.standard_normal(x.shape)\n\n# introduce some strong artifact on the first 100 samples\nx[:100, :] = 100\n\n# Detrend\ny, _, _ = detrend(x, 3, None, threshold=np.inf)\n\n# Same process but this time downweight artifactual window\nw = np.ones(x.shape)\nw[:100, :] = 0\nz, _, _ = detrend(x, 3, w)\n\nplt.figure(7)\nplt.plot(x, label=\"original\")\nplt.plot(y, label=\"detrended - no weights\")\nplt.plot(z, label=\"detrended - weights\")\nplt.legend()\nplt.show()"
      ]
    }
  ],
  "metadata": {
    "kernelspec": {
      "display_name": "Python 3",
      "language": "python",
      "name": "python3"
    },
    "language_info": {
      "codemirror_mode": {
        "name": "ipython",
        "version": 3
      },
      "file_extension": ".py",
      "mimetype": "text/x-python",
      "name": "python",
      "nbconvert_exporter": "python",
      "pygments_lexer": "ipython3",
      "version": "3.10.18"
    }
  },
  "nbformat": 4,
  "nbformat_minor": 0
}