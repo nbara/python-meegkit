{
  "cells": [
    {
      "cell_type": "markdown",
      "metadata": {},
      "source": [
        "\n# Rhythmic Entrainment Source Separation (RESS) example\n\nFind the linear combinations of multichannel data that maximize the\nsignal-to-noise ratio of the narrow-band steady-state response in the frequency\ndomain.\n\nUses `meegkit.RESS()`.\n"
      ]
    },
    {
      "cell_type": "code",
      "execution_count": null,
      "metadata": {
        "collapsed": false
      },
      "outputs": [],
      "source": [
        "import matplotlib.pyplot as plt\nimport numpy as np\nimport scipy.signal as ss\n\nfrom meegkit import ress\nfrom meegkit.utils import fold, matmul3d, snr_spectrum, unfold\n\n# import config\n\nrng = np.random.default_rng(9)"
      ]
    },
    {
      "cell_type": "markdown",
      "metadata": {},
      "source": [
        "## Create synthetic data\nCreate synthetic data containing a single oscillatory component at 12 hz.\n\n"
      ]
    },
    {
      "cell_type": "code",
      "execution_count": null,
      "metadata": {
        "collapsed": false
      },
      "outputs": [],
      "source": [
        "n_times = 1000\nn_chans = 10\nn_trials = 30\ntarget = 12\nsfreq = 250\nnoise_dim = 8\nSNR = .2\nt0 = 100\n\n# source\nsource = np.sin(2 * np.pi * target * np.arange(n_times - t0) / sfreq)[None].T\ns = source * rng.standard_normal((1, n_chans))\ns = s[:, :, np.newaxis]\ns = np.tile(s, (1, 1, n_trials))\nsignal = np.zeros((n_times, n_chans, n_trials))\nsignal[t0:, :, :] = s\n\n# noise\nnoise = np.dot(\n    unfold(rng.standard_normal((n_times, noise_dim, n_trials))),\n    rng.standard_normal((noise_dim, n_chans)))\nnoise = fold(noise, n_times)\n\n# mix signal and noise\nsignal = SNR * signal /  np.sqrt(np.mean(signal ** 2))\nnoise = noise / np.sqrt(np.mean(noise ** 2))\ndata = signal + noise\n\n# Plot\nf, ax = plt.subplots(3)\nax[0].plot(signal[:, 0, 0], c=\"C0\", label=\"source\")\nax[1].plot(noise[:, 1, 0], c=\"C1\", label=\"noise\")\nax[2].plot(data[:, 1, 0], c=\"C2\", label=\"mixture\")\nax[0].legend()\nax[1].legend()\nax[2].legend()"
      ]
    },
    {
      "cell_type": "markdown",
      "metadata": {},
      "source": [
        "## Enhance oscillatory activity using RESS\nApply RESS\n\n"
      ]
    },
    {
      "cell_type": "code",
      "execution_count": null,
      "metadata": {
        "collapsed": false
      },
      "outputs": [],
      "source": [
        "r = ress.RESS(sfreq=sfreq, peak_freq=target, compute_unmixing=True)\nout = r.fit_transform(data)\n\n# Compute PSD\nnfft = 250\ndf = sfreq / nfft  # frequency resolution\nbins, psd = ss.welch(np.squeeze(out), sfreq, window=\"hamming\", nperseg=nfft,\n                     noverlap=125, axis=0)\npsd = psd.mean(axis=1, keepdims=True)  # average over trials\nsnr = snr_spectrum(psd, bins, skipbins=2, n_avg=2)\n\nf, ax = plt.subplots(1)\nax.plot(bins, snr, \"o\", label=\"SNR\")\nax.plot(bins[bins == target], snr[bins == target], \"ro\", label=\"Target SNR\")\nax.axhline(1, ls=\":\", c=\"grey\", zorder=0)\nax.axvline(target, ls=\":\", c=\"grey\", zorder=0)\nax.set_ylabel(\"SNR (a.u.)\")\nax.set_xlabel(\"Frequency (Hz)\")\nax.set_xlim([0, 40])"
      ]
    },
    {
      "cell_type": "markdown",
      "metadata": {},
      "source": [
        "Project components back into sensor space to see the effects of RESS on the\naverage SSVEP.\n\n"
      ]
    },
    {
      "cell_type": "code",
      "execution_count": null,
      "metadata": {
        "collapsed": false
      },
      "outputs": [],
      "source": [
        "fromress = r.from_ress\nproj = matmul3d(out, fromress)\nf, ax = plt.subplots(n_chans, 2, sharey=\"col\")\nfor c in range(n_chans):\n    ax[c, 0].plot(data[:, c].mean(-1), lw=.5, label=\"data\")\n    ax[c, 1].plot(proj[:, c].mean(-1), lw=.5, label=\"projection\")\n    ax[c, 0].set_ylabel(f\"ch{c}\")\n    if c < n_chans:\n        ax[c, 0].set_xticks([])\n        ax[c, 1].set_xticks([])\n\nax[0, 0].set_title(\"Trial average (before)\")\nax[0, 1].set_title(\"Trial average (after)\")\nplt.show()"
      ]
    }
  ],
  "metadata": {
    "kernelspec": {
      "display_name": "Python 3",
      "language": "python",
      "name": "python3"
    },
    "language_info": {
      "codemirror_mode": {
        "name": "ipython",
        "version": 3
      },
      "file_extension": ".py",
      "mimetype": "text/x-python",
      "name": "python",
      "nbconvert_exporter": "python",
      "pygments_lexer": "ipython3",
      "version": "3.10.18"
    }
  },
  "nbformat": 4,
  "nbformat_minor": 0
}