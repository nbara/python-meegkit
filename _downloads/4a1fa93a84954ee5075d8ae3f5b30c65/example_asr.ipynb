{
  "cells": [
    {
      "cell_type": "markdown",
      "metadata": {},
      "source": [
        "\n# ASR example\n\nDenoise data using Artifact Subspace Reconstruction.\n\nUses meegkit.ASR().\n"
      ]
    },
    {
      "cell_type": "code",
      "execution_count": null,
      "metadata": {
        "collapsed": false
      },
      "outputs": [],
      "source": [
        "import os\n\nimport matplotlib.pyplot as plt\nimport numpy as np\n\nfrom meegkit.asr import ASR\nfrom meegkit.utils.matrix import sliding_window\n\n# THIS_FOLDER = os.path.dirname(os.path.abspath(__file__))\nraw = np.load(os.path.join(\"..\", \"tests\", \"data\", \"eeg_raw.npy\"))\nsfreq = 250"
      ]
    },
    {
      "cell_type": "markdown",
      "metadata": {},
      "source": [
        "## Calibration and processing\n\n"
      ]
    },
    {
      "cell_type": "code",
      "execution_count": null,
      "metadata": {
        "collapsed": false
      },
      "outputs": [],
      "source": [
        "# Train on a clean portion of data\nasr = ASR(method=\"euclid\")\ntrain_idx = np.arange(0 * sfreq, 30 * sfreq, dtype=int)\n_, sample_mask = asr.fit(raw[:, train_idx])\n\n# Apply filter using sliding (non-overlapping) windows\nX = sliding_window(raw, window=int(sfreq), step=int(sfreq))\nY = np.zeros_like(X)\nfor i in range(X.shape[1]):\n    Y[:, i, :] = asr.transform(X[:, i, :])\n\nraw = X.reshape(8, -1)  # reshape to (n_chans, n_times)\nclean = Y.reshape(8, -1)"
      ]
    },
    {
      "cell_type": "markdown",
      "metadata": {},
      "source": [
        "## Plot the results\n\nData was trained on a 40s window from 5s to 45s onwards (gray filled area).\nThe algorithm then removes portions of this data with high amplitude\nartifacts before running the calibration (hatched area = good).\n\n"
      ]
    },
    {
      "cell_type": "code",
      "execution_count": null,
      "metadata": {
        "collapsed": false
      },
      "outputs": [],
      "source": [
        "times = np.arange(raw.shape[-1]) / sfreq\nf, ax = plt.subplots(8, sharex=True, figsize=(8, 5))\nfor i in range(8):\n    ax[i].fill_between(train_idx / sfreq, 0, 1, color=\"grey\", alpha=.3,\n                       transform=ax[i].get_xaxis_transform(),\n                       label=\"calibration window\")\n    ax[i].fill_between(train_idx / sfreq, 0, 1, where=sample_mask.flat,\n                       transform=ax[i].get_xaxis_transform(),\n                       facecolor=\"none\", hatch=\"...\", edgecolor=\"k\",\n                       label=\"selected window\")\n    ax[i].plot(times, raw[i], lw=.5, label=\"before ASR\")\n    ax[i].plot(times, clean[i], label=\"after ASR\", lw=.5)\n    ax[i].set_ylim([-50, 50])\n    ax[i].set_ylabel(f\"ch{i}\")\n    ax[i].set_yticks([])\nax[i].set_xlabel(\"Time (s)\")\nax[0].legend(fontsize=\"small\", bbox_to_anchor=(1.04, 1), borderaxespad=0)\nplt.subplots_adjust(hspace=0, right=0.75)\nplt.suptitle(\"Before/after ASR\")\nplt.show()"
      ]
    }
  ],
  "metadata": {
    "kernelspec": {
      "display_name": "Python 3",
      "language": "python",
      "name": "python3"
    },
    "language_info": {
      "codemirror_mode": {
        "name": "ipython",
        "version": 3
      },
      "file_extension": ".py",
      "mimetype": "text/x-python",
      "name": "python",
      "nbconvert_exporter": "python",
      "pygments_lexer": "ipython3",
      "version": "3.10.18"
    }
  },
  "nbformat": 4,
  "nbformat_minor": 0
}