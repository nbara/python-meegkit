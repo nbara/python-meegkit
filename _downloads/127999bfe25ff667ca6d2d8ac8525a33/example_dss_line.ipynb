{
  "cells": [
    {
      "cell_type": "markdown",
      "metadata": {},
      "source": [
        "\n# Remove line noise with ZapLine\n\nFind a spatial filter to get rid of line noise [1]_.\n\nUses meegkit.dss_line().\n\n## References\n.. [1] de Cheveign\u00e9, A. (2019). ZapLine: A simple and effective method to remove\n   power line artifacts. NeuroImage, 116356.\n   https://doi.org/10.1016/j.neuroimage.2019.116356\n"
      ]
    },
    {
      "cell_type": "code",
      "execution_count": null,
      "metadata": {
        "collapsed": false
      },
      "outputs": [],
      "source": [
        "# Authors: Maciej Szul <maciej.szul@isc.cnrs.fr>\n#          Nicolas Barascud <nicolas.barascud@gmail.com>\nimport os\n\nimport matplotlib.pyplot as plt\nimport numpy as np\nfrom scipy import signal\n\nfrom meegkit import dss\nfrom meegkit.utils import create_line_data, unfold"
      ]
    },
    {
      "cell_type": "markdown",
      "metadata": {},
      "source": [
        "# Line noise removal\n\n"
      ]
    },
    {
      "cell_type": "markdown",
      "metadata": {},
      "source": [
        "## Remove line noise with dss_line()\nWe first generate some noisy data to work with\n\n"
      ]
    },
    {
      "cell_type": "code",
      "execution_count": null,
      "metadata": {
        "collapsed": false
      },
      "outputs": [],
      "source": [
        "sfreq = 250\nfline = 50\nnsamples = 10000\nnchans = 10\ndata = create_line_data(n_samples=3 * nsamples, n_chans=nchans,\n                        n_trials=1, fline=fline / sfreq, SNR=2)[0]\ndata = data[..., 0]  # only take first trial\n\n# Apply dss_line (ZapLine)\nout, _ = dss.dss_line(data, fline, sfreq, nkeep=1)"
      ]
    },
    {
      "cell_type": "markdown",
      "metadata": {},
      "source": [
        "Plot before/after\n\n"
      ]
    },
    {
      "cell_type": "code",
      "execution_count": null,
      "metadata": {
        "collapsed": false
      },
      "outputs": [],
      "source": [
        "f, ax = plt.subplots(1, 2, sharey=True)\nf, Pxx = signal.welch(data, sfreq, nperseg=500, axis=0, return_onesided=True)\nax[0].semilogy(f, Pxx)\nf, Pxx = signal.welch(out, sfreq, nperseg=500, axis=0, return_onesided=True)\nax[1].semilogy(f, Pxx)\nax[0].set_xlabel(\"frequency [Hz]\")\nax[1].set_xlabel(\"frequency [Hz]\")\nax[0].set_ylabel(\"PSD [V**2/Hz]\")\nax[0].set_title(\"before\")\nax[1].set_title(\"after\")\nplt.show()"
      ]
    },
    {
      "cell_type": "markdown",
      "metadata": {},
      "source": [
        "## Remove line noise with dss_line_iter()\nWe first load some noisy data to work with\n\n"
      ]
    },
    {
      "cell_type": "code",
      "execution_count": null,
      "metadata": {
        "collapsed": false
      },
      "outputs": [],
      "source": [
        "data = np.load(os.path.join(\"..\", \"tests\", \"data\", \"dss_line_data.npy\"))\nfline = 50\nsfreq = 200\nprint(data.shape)  # n_samples, n_chans, n_trials\n\n# Apply dss_line(), removing only one component\nout1, _ = dss.dss_line(data, fline, sfreq, nfft=400, nremove=1)"
      ]
    },
    {
      "cell_type": "markdown",
      "metadata": {},
      "source": [
        "Now try dss_line_iter(). This applies dss_line() repeatedly until the\nartifact is gone\n\n"
      ]
    },
    {
      "cell_type": "code",
      "execution_count": null,
      "metadata": {
        "collapsed": false
      },
      "outputs": [],
      "source": [
        "out2, iterations = dss.dss_line_iter(data, fline, sfreq, nfft=400, show=True)\nprint(f\"Removed {iterations} components\")"
      ]
    },
    {
      "cell_type": "markdown",
      "metadata": {},
      "source": [
        "Plot results with dss_line() vs. dss_line_iter()\n\n"
      ]
    },
    {
      "cell_type": "code",
      "execution_count": null,
      "metadata": {
        "collapsed": false
      },
      "outputs": [],
      "source": [
        "f, ax = plt.subplots(1, 2, sharey=True)\nf, Pxx = signal.welch(unfold(out1), sfreq, nperseg=200, axis=0,\n                      return_onesided=True)\nax[0].semilogy(f, Pxx, lw=.5)\nf, Pxx = signal.welch(unfold(out2), sfreq, nperseg=200, axis=0,\n                      return_onesided=True)\nax[1].semilogy(f, Pxx, lw=.5)\nax[0].set_xlabel(\"frequency [Hz]\")\nax[1].set_xlabel(\"frequency [Hz]\")\nax[0].set_ylabel(\"PSD [V**2/Hz]\")\nax[0].set_title(\"dss_line\")\nax[1].set_title(\"dss_line_iter\")\nplt.tight_layout()\nplt.show()"
      ]
    }
  ],
  "metadata": {
    "kernelspec": {
      "display_name": "Python 3",
      "language": "python",
      "name": "python3"
    },
    "language_info": {
      "codemirror_mode": {
        "name": "ipython",
        "version": 3
      },
      "file_extension": ".py",
      "mimetype": "text/x-python",
      "name": "python",
      "nbconvert_exporter": "python",
      "pygments_lexer": "ipython3",
      "version": "3.10.18"
    }
  },
  "nbformat": 4,
  "nbformat_minor": 0
}