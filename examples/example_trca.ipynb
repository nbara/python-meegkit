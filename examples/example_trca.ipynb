{
 "cells": [
  {
   "cell_type": "code",
   "execution_count": 1,
   "metadata": {
    "collapsed": false,
    "jupyter": {
     "outputs_hidden": false
    }
   },
   "outputs": [],
   "source": [
    "%matplotlib inline"
   ]
  },
  {
   "cell_type": "markdown",
   "metadata": {},
   "source": [
    "\n",
    "# Task-related component analysis (TRCA)-based SSVEP detection\n",
    "\n",
    "Sample code for the task-related component analysis (TRCA)-based steady\n",
    "-state visual evoked potential (SSVEP) detection method [1]_. The filter\n",
    "bank analysis [2, 3]_ can also be combined to the TRCA-based algorithm.\n",
    "\n",
    "Uses meegkit.trca.TRCA()\n",
    "\n",
    "References:\n",
    "\n",
    ".. [1] M. Nakanishi, Y. Wang, X. Chen, Y.-T. Wang, X. Gao, and T.-P. Jung,\n",
    "   \"Enhancing detection of SSVEPs for a high-speed brain speller using\n",
    "   task-related component analysis\", IEEE Trans. Biomed. Eng, 65(1): 104-112,\n",
    "   2018.\n",
    ".. [2] X. Chen, Y. Wang, S. Gao, T. -P. Jung and X. Gao, \"Filter bank\n",
    "   canonical correlation analysis for implementing a high-speed SSVEP-based\n",
    "   brain-computer interface\", J. Neural Eng., 12: 046008, 2015.\n",
    ".. [3] X. Chen, Y. Wang, M. Nakanishi, X. Gao, T. -P. Jung, S. Gao,\n",
    "   \"High-speed spelling with a noninvasive brain-computer interface\",\n",
    "   Proc. Int. Natl. Acad. Sci. U. S. A, 112(44): E6058-6067, 2015.\n",
    "\n",
    "This code is based on the Matlab implementation from\n",
    "https://github.com/mnakanishi/TRCA-SSVEP\n"
   ]
  },
  {
   "cell_type": "code",
   "execution_count": 2,
   "metadata": {
    "collapsed": false,
    "jupyter": {
     "outputs_hidden": false
    }
   },
   "outputs": [],
   "source": [
    "# Author: Giuseppe Ferraro <giuseppe.ferraro@isae-supaero.fr>\n",
    "import os\n",
    "import time\n",
    "\n",
    "import numpy as np\n",
    "import scipy.io\n",
    "from meegkit.trca import TRCA\n",
    "from meegkit.utils.trca import itr, normfit, round_half_up\n",
    "\n",
    "t = time.time()"
   ]
  },
  {
   "cell_type": "markdown",
   "metadata": {},
   "source": [
    "## Parameters\n",
    "\n"
   ]
  },
  {
   "cell_type": "code",
   "execution_count": 3,
   "metadata": {
    "collapsed": false,
    "jupyter": {
     "outputs_hidden": false
    }
   },
   "outputs": [],
   "source": [
    "len_gaze_s = 0.5  # data length for target identification [s]\n",
    "len_delay_s = 0.13  # visual latency being considered in the analysis [s]\n",
    "n_bands = 5  # number of sub-bands in filter bank analysis\n",
    "is_ensemble = True  # True = ensemble TRCA method; False = TRCA method\n",
    "alpha_ci = 0.05   # 100*(1-alpha_ci): confidence interval for accuracy\n",
    "sfreq = 250  # sampling rate [Hz]\n",
    "len_shift_s = 0.5  # duration for gaze shifting [s]\n",
    "list_freqs = np.concatenate(\n",
    "    [[x + 8 for x in range(8)],\n",
    "     [x + 8.2 for x in range(8)],\n",
    "     [x + 8.4 for x in range(8)],\n",
    "     [x + 8.6 for x in range(8)],\n",
    "     [x + 8.8 for x in range(8)]])  # list of stimulus frequencies\n",
    "n_targets = len(list_freqs)  # The number of stimuli\n",
    "\n",
    "# Preparing useful variables (DONT'T need to modify)\n",
    "len_gaze_smpl = round_half_up(len_gaze_s * sfreq)  # data length [samples]\n",
    "len_delay_smpl = round_half_up(len_delay_s * sfreq)  # visual latency [samples]\n",
    "len_sel_s = len_gaze_s + len_shift_s  # selection time [s]\n",
    "ci = 100 * (1 - alpha_ci)  # confidence interval"
   ]
  },
  {
   "cell_type": "markdown",
   "metadata": {},
   "source": [
    "## Load data\n",
    "\n"
   ]
  },
  {
   "cell_type": "code",
   "execution_count": 4,
   "metadata": {
    "collapsed": false,
    "jupyter": {
     "outputs_hidden": false
    }
   },
   "outputs": [],
   "source": [
    "path = os.path.join('..', 'tests', 'data', 'trcadata.mat')\n",
    "mat = scipy.io.loadmat(path)\n",
    "eeg = mat[\"eeg\"]\n",
    "\n",
    "n_trials = eeg.shape[0]\n",
    "n_chans = eeg.shape[1]\n",
    "n_samples = eeg.shape[2]\n",
    "n_blocks = eeg.shape[3]\n",
    "\n",
    "# Convert dummy Matlab format to (sample, channels, trials) and construct\n",
    "# vector of labels\n",
    "eeg = np.reshape(eeg.transpose([2, 1, 3, 0]),\n",
    "                 (n_samples, n_chans, n_trials * n_blocks))\n",
    "labels = np.array([x for x in range(n_targets)] * n_blocks)\n",
    "\n",
    "crop_data = np.arange(len_delay_smpl, len_delay_smpl + len_gaze_smpl)\n",
    "eeg = eeg[crop_data]"
   ]
  },
  {
   "cell_type": "markdown",
   "metadata": {},
   "source": [
    "## TRCA classification\n",
    "Estimate classification performance with a Leave-One-Block-Out\n",
    "cross-validation approach.\n",
    "\n"
   ]
  },
  {
   "cell_type": "code",
   "execution_count": 5,
   "metadata": {
    "collapsed": false,
    "jupyter": {
     "outputs_hidden": false
    }
   },
   "outputs": [
    {
     "name": "stdout",
     "output_type": "stream",
     "text": [
      "Block 0: accuracy = 70.0, \tITR = 171.3\n",
      "Block 1: accuracy = 85.0, \tITR = 235.2\n"
     ]
    },
    {
     "ename": "KeyboardInterrupt",
     "evalue": "",
     "output_type": "error",
     "traceback": [
      "\u001b[0;31m---------------------------------------------------------------------------\u001b[0m",
      "\u001b[0;31mKeyboardInterrupt\u001b[0m                         Traceback (most recent call last)",
      "\u001b[0;32m<ipython-input-5-a1ec6cf86ee1>\u001b[0m in \u001b[0;36m<module>\u001b[0;34m\u001b[0m\n\u001b[1;32m     29\u001b[0m     \u001b[0mtestdata\u001b[0m \u001b[0;34m=\u001b[0m \u001b[0meeg\u001b[0m\u001b[0;34m[\u001b[0m\u001b[0;34m...\u001b[0m\u001b[0;34m,\u001b[0m \u001b[0mi\u001b[0m \u001b[0;34m*\u001b[0m \u001b[0mn_trials\u001b[0m\u001b[0;34m:\u001b[0m\u001b[0;34m(\u001b[0m\u001b[0mi\u001b[0m \u001b[0;34m+\u001b[0m \u001b[0;36m1\u001b[0m\u001b[0;34m)\u001b[0m \u001b[0;34m*\u001b[0m \u001b[0mn_trials\u001b[0m\u001b[0;34m]\u001b[0m\u001b[0;34m\u001b[0m\u001b[0;34m\u001b[0m\u001b[0m\n\u001b[1;32m     30\u001b[0m     \u001b[0my_test\u001b[0m \u001b[0;34m=\u001b[0m \u001b[0mlabels\u001b[0m\u001b[0;34m[\u001b[0m\u001b[0mi\u001b[0m \u001b[0;34m*\u001b[0m \u001b[0mn_trials\u001b[0m\u001b[0;34m:\u001b[0m\u001b[0;34m(\u001b[0m\u001b[0mi\u001b[0m \u001b[0;34m+\u001b[0m \u001b[0;36m1\u001b[0m\u001b[0;34m)\u001b[0m \u001b[0;34m*\u001b[0m \u001b[0mn_trials\u001b[0m\u001b[0;34m]\u001b[0m\u001b[0;34m\u001b[0m\u001b[0;34m\u001b[0m\u001b[0m\n\u001b[0;32m---> 31\u001b[0;31m     \u001b[0mestimated\u001b[0m \u001b[0;34m=\u001b[0m \u001b[0mtrca\u001b[0m\u001b[0;34m.\u001b[0m\u001b[0mpredict\u001b[0m\u001b[0;34m(\u001b[0m\u001b[0mtestdata\u001b[0m\u001b[0;34m)\u001b[0m\u001b[0;34m\u001b[0m\u001b[0;34m\u001b[0m\u001b[0m\n\u001b[0m\u001b[1;32m     32\u001b[0m \u001b[0;34m\u001b[0m\u001b[0m\n\u001b[1;32m     33\u001b[0m     \u001b[0;31m# Evaluation of the performance for this fold (accuracy and ITR)\u001b[0m\u001b[0;34m\u001b[0m\u001b[0;34m\u001b[0m\u001b[0;34m\u001b[0m\u001b[0m\n",
      "\u001b[0;32m/usr/local/lib/python3.8/dist-packages/meegkit/trca.py\u001b[0m in \u001b[0;36mpredict\u001b[0;34m(self, X)\u001b[0m\n\u001b[1;32m    294\u001b[0m                     \u001b[0;31m# Compute 2D correlation of spatially filtered test data\u001b[0m\u001b[0;34m\u001b[0m\u001b[0;34m\u001b[0m\u001b[0;34m\u001b[0m\u001b[0m\n\u001b[1;32m    295\u001b[0m                     \u001b[0;31m# with ref\u001b[0m\u001b[0;34m\u001b[0m\u001b[0;34m\u001b[0m\u001b[0;34m\u001b[0m\u001b[0m\n\u001b[0;32m--> 296\u001b[0;31m                     r_tmp = np.corrcoef((testdata @ w).flatten(),\n\u001b[0m\u001b[1;32m    297\u001b[0m                                         (traindata @ w).flatten())\n\u001b[1;32m    298\u001b[0m                     \u001b[0mr\u001b[0m\u001b[0;34m[\u001b[0m\u001b[0mfb_i\u001b[0m\u001b[0;34m,\u001b[0m \u001b[0mclass_i\u001b[0m\u001b[0;34m]\u001b[0m \u001b[0;34m=\u001b[0m \u001b[0mr_tmp\u001b[0m\u001b[0;34m[\u001b[0m\u001b[0;36m0\u001b[0m\u001b[0;34m,\u001b[0m \u001b[0;36m1\u001b[0m\u001b[0;34m]\u001b[0m\u001b[0;34m\u001b[0m\u001b[0;34m\u001b[0m\u001b[0m\n",
      "\u001b[0;31mKeyboardInterrupt\u001b[0m: "
     ]
    }
   ],
   "source": [
    "# We use the filterbank specification described in [2]_.\n",
    "filterbank = [[(6, 90), (4, 100)],  # passband freqs, stopband freqs (Wp, Ws)\n",
    "              [(14, 90), (10, 100)],\n",
    "              [(22, 90), (16, 100)],\n",
    "              [(30, 90), (24, 100)],\n",
    "              [(38, 90), (32, 100)],\n",
    "              [(46, 90), (40, 100)],\n",
    "              [(54, 90), (48, 100)]]\n",
    "trca = TRCA(sfreq, filterbank, is_ensemble, method='original') #  'riemann' method is weaker on this dataset\n",
    "\n",
    "accs = np.zeros(n_blocks)\n",
    "itrs = np.zeros(n_blocks)\n",
    "for i in range(n_blocks):\n",
    "\n",
    "    # Training stage\n",
    "    traindata = eeg.copy()\n",
    "\n",
    "    # Select all folds except one for training\n",
    "    traindata = np.concatenate(\n",
    "        (traindata[..., :i * n_trials],\n",
    "         traindata[..., (i + 1) * n_trials:]), 2)\n",
    "    y_train = np.concatenate(\n",
    "        (labels[:i * n_trials], labels[(i + 1) * n_trials:]), 0)\n",
    "\n",
    "    # Construction of the spatial filter and the reference signals\n",
    "    trca.fit(traindata, y_train)\n",
    "\n",
    "    # Test stage\n",
    "    testdata = eeg[..., i * n_trials:(i + 1) * n_trials]\n",
    "    y_test = labels[i * n_trials:(i + 1) * n_trials]\n",
    "    estimated = trca.predict(testdata)\n",
    "\n",
    "    # Evaluation of the performance for this fold (accuracy and ITR)\n",
    "    is_correct = estimated == y_test\n",
    "    accs[i] = np.mean(is_correct) * 100\n",
    "    itrs[i] = itr(n_targets, np.mean(is_correct), len_sel_s)\n",
    "    print(f\"Block {i}: accuracy = {accs[i]:.1f}, \\tITR = {itrs[i]:.1f}\")\n",
    "\n",
    "# Mean accuracy and ITR computation\n",
    "mu, _, muci, _ = normfit(accs, alpha_ci)\n",
    "print()\n",
    "print(f\"Mean accuracy = {mu:.1f}%\\t({ci:.0f}% CI: {muci[0]:.1f}-{muci[1]:.1f}%)\")  # noqa\n",
    "\n",
    "mu, _, muci, _ = normfit(itrs, alpha_ci)\n",
    "print(f\"Mean ITR = {mu:.1f}\\t({ci:.0f}% CI: {muci[0]:.1f}-{muci[1]:.1f}%)\")\n",
    "if is_ensemble:\n",
    "    ensemble = 'ensemble TRCA-based method'\n",
    "else:\n",
    "    ensemble = 'TRCA-based method'\n",
    "\n",
    "print(f\"\\nElapsed time: {time.time()-t:.1f} seconds\")"
   ]
  }
 ],
 "metadata": {
  "kernelspec": {
   "display_name": "Python 3",
   "language": "python",
   "name": "python3"
  },
  "language_info": {
   "codemirror_mode": {
    "name": "ipython",
    "version": 3
   },
   "file_extension": ".py",
   "mimetype": "text/x-python",
   "name": "python",
   "nbconvert_exporter": "python",
   "pygments_lexer": "ipython3",
   "version": "3.8.5"
  }
 },
 "nbformat": 4,
 "nbformat_minor": 4
}
