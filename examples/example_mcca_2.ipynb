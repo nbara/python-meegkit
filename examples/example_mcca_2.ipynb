{
 "cells": [
  {
   "attachments": {},
   "cell_type": "markdown",
   "metadata": {},
   "source": [
    "# Example 1 - sinusoidal target in separable noise.\n",
    "reproduced from de Cheveigné et al. (2018).\n",
    "\n",
    "Synthetic data for this example consisted of 10 data matrices, each of dimensions 10000 samples x 10 channels. Each was obtained by multiplying 9 Gaussian noise time series (independent and uncorrelated) by a 9 x 10 mixing matrix with random Gaussian coefficients. To this background of noise was added a “target” consisting of a sinusoidal time series multiplied by a 1 x 10 mixing matrix with random coefficients. The target was the same for all data matrices, but the mixing matrices differed, as did the noise matrices. The SNR was set to 10−20, i.e. a very unfavorable SNR. The noise is of rank 9 and the signal of rank 1, so signal and noise are in principle linearly separable."
   ]
  },
  {
   "cell_type": "code",
   "execution_count": null,
   "metadata": {},
   "outputs": [],
   "source": [
    "import numpy as np\n",
    "import matplotlib.pyplot as plt"
   ]
  },
  {
   "cell_type": "code",
   "execution_count": null,
   "metadata": {},
   "outputs": [],
   "source": [
    "# Set the seed for the random number generator for reproducibility\n",
    "np.random.seed(5)\n",
    "\n",
    "# Constants\n",
    "num_matrices = 10\n",
    "num_samples = 10000\n",
    "num_channels = 10\n",
    "noise_rank = 9\n",
    "signal_rank = 1\n",
    "unfavorable_SNR_dB = -20  # SNR in decibels\n",
    "\n",
    "# Generate noise matrices and mixing matrices\n",
    "noise_matrices = [np.random.normal(size=(num_samples, noise_rank)) for _ in range(num_matrices)]\n",
    "mixing_matrices = [np.random.normal(size=(noise_rank, num_channels)) for _ in range(num_matrices)]\n",
    "\n",
    "# Generate sinusoidal target\n",
    "t = np.linspace(0, 1, num_samples)\n",
    "target_signal = np.sin(2 * np.pi * t)  # 1 Hz sinusoidal signal\n",
    "\n",
    "# Generate signal mixing matrix\n",
    "signal_mixing_matrix = np.random.normal(size=(signal_rank, num_channels))\n",
    "\n",
    "# Prepare data matrices\n",
    "data_matrices = []\n",
    "for i in range(num_matrices):\n",
    "    # Create noise for current data matrix\n",
    "    noise = np.matmul(noise_matrices[i], mixing_matrices[i])\n",
    "\n",
    "    # Create signal for current data matrix\n",
    "    signal = np.matmul(target_signal.reshape(-1, 1), signal_mixing_matrix)\n",
    "\n",
    "    # Adjust the power of signal to achieve the desired SNR\n",
    "    noise_power = np.mean(noise**2)\n",
    "    signal_power = 10**(unfavorable_SNR_dB / 10) * noise_power\n",
    "    signal = np.sqrt(signal_power / np.mean(signal**2)) * signal\n",
    "\n",
    "    # Add signal and noise\n",
    "    data_matrix = signal + noise\n",
    "\n",
    "    data_matrices.append(data_matrix)"
   ]
  },
  {
   "cell_type": "code",
   "execution_count": null,
   "metadata": {},
   "outputs": [],
   "source": [
    "# Concatenate data matrices\n",
    "x = np.concatenate(data_matrices, axis=-1)"
   ]
  },
  {
   "cell_type": "code",
   "execution_count": null,
   "metadata": {},
   "outputs": [],
   "source": [
    "from meegkit import cca\n",
    "\n",
    "# Compute Covariance matrix\n",
    "C = np.dot(x.T, x)\n",
    "\n",
    "# Compute mCCA\n",
    "A, score, AA = cca.mcca(C, 10)"
   ]
  },
  {
   "cell_type": "code",
   "execution_count": null,
   "metadata": {},
   "outputs": [],
   "source": [
    "# Compute the recovered signal using first SC\n",
    "x_recovered = x.dot(A)[:,0]\n",
    "# Normalize the recovered signal\n",
    "x_recovered = x_recovered / x_recovered.std()\n",
    "# Compute variance across SCs\n",
    "variance = np.var(x.dot(A), axis=0)"
   ]
  },
  {
   "cell_type": "code",
   "execution_count": null,
   "metadata": {},
   "outputs": [],
   "source": [
    "# Plot the results\n",
    "fig, ax = plt.subplots(1, 4, figsize=(12, 4))\n",
    "ax[0].plot(target_signal)\n",
    "ax[0].set_title('Target')\n",
    "ax[0].set_xlabel('Sample')\n",
    "ax[0].set_ylabel('Amplitude')\n",
    "ax[1].plot(data_matrix)\n",
    "ax[1].set_title('Target + Noise')\n",
    "ax[1].set_ylabel('Amplitude')\n",
    "ax[1].set_xlabel('Sample')\n",
    "ax[2].plot(variance, 'o-k')\n",
    "ax[2].set_xlabel('SC')\n",
    "ax[2].set_ylabel('Variance')\n",
    "ax[3].plot(x_recovered)\n",
    "ax[3].set_title('Recovered')\n",
    "ax[3].set_ylabel('Amplitude')\n",
    "ax[3].set_xlabel('Sample')\n",
    "plt.tight_layout()"
   ]
  }
 ],
 "metadata": {
  "kernelspec": {
   "display_name": "eelbrain",
   "language": "python",
   "name": "python3"
  },
  "language_info": {
   "codemirror_mode": {
    "name": "ipython",
    "version": 3
   },
   "file_extension": ".py",
   "mimetype": "text/x-python",
   "name": "python",
   "nbconvert_exporter": "python",
   "pygments_lexer": "ipython3",
   "version": "3.8.16"
  },
  "orig_nbformat": 4
 },
 "nbformat": 4,
 "nbformat_minor": 2
}
