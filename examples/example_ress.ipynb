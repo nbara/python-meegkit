{
  "cells": [
    {
      "cell_type": "code",
      "execution_count": null,
      "metadata": {
        "collapsed": false
      },
      "outputs": [],
      "source": [
        "%matplotlib inline"
      ]
    },
    {
      "cell_type": "markdown",
      "metadata": {},
      "source": [
        "\n# Rhythmic Entrainment Source Separation (RESS) example\n\nFind the linear combinations of multichannel data that maximize the\nsignal-to-noise ratio of the narrow-band steady-state response in the frequency\ndomain.\n\nUses `meegkit.RESS()`.\n"
      ]
    },
    {
      "cell_type": "code",
      "execution_count": null,
      "metadata": {
        "collapsed": false
      },
      "outputs": [],
      "source": [
        "import matplotlib.pyplot as plt\nimport numpy as np\nimport scipy.signal as ss\n\nfrom meegkit import ress\nfrom meegkit.utils import unfold, rms, fold\n\n# import config\n\nnp.random.seed(1)"
      ]
    },
    {
      "cell_type": "markdown",
      "metadata": {},
      "source": [
        "## Create synthetic data\nCreate synthetic data containing a single oscillatory component at 12 hz.\n\n"
      ]
    },
    {
      "cell_type": "code",
      "execution_count": null,
      "metadata": {
        "collapsed": false
      },
      "outputs": [],
      "source": [
        "n_times = 1000\nn_chans = 10\nn_trials = 50\ntarget = 12\nsfreq = 250\nnoise_dim = 8\nSNR = 1.\nt0 = 100\n\n# source\nsource = np.sin(2 * np.pi * target * np.arange(n_times - t0) / sfreq)[None].T\ns = source * np.random.randn(1, n_chans)\ns = s[:, :, np.newaxis]\ns = np.tile(s, (1, 1, n_trials))\nsignal = np.zeros((n_times, n_chans, n_trials))\nsignal[t0:, :, :] = s\n\n# noise\nnoise = np.dot(\n    unfold(np.random.randn(n_times, noise_dim, n_trials)),\n    np.random.randn(noise_dim, n_chans))\nnoise = fold(noise, n_times)\n\n# mix signal and noise\nsignal = SNR * signal / rms(signal.flatten())\nnoise = noise / rms(noise.flatten())\ndata = signal + noise\n\n# Plot\nf, ax = plt.subplots(3)\nax[0].plot(signal[:, 0, 0], c='C0', label='source')\nax[1].plot(noise[:, 1, 0], c='C1', label='noise')\nax[2].plot(data[:, 1, 0], c='C2', label='mixture')\nax[0].legend()\nax[1].legend()\nax[2].legend()"
      ]
    },
    {
      "cell_type": "markdown",
      "metadata": {},
      "source": [
        "## Enhance oscillatory activity using RESS\n\n"
      ]
    },
    {
      "cell_type": "code",
      "execution_count": null,
      "metadata": {
        "collapsed": false
      },
      "outputs": [],
      "source": [
        "# Apply RESS\nout = ress.RESS(data, sfreq=sfreq, peak_freq=target)\n\n# Compute PSD\nnfft = 250\ndf = sfreq / nfft  # frequency resolution\nbins, psd = ss.welch(out, sfreq, window=\"hamming\", nperseg=nfft,\n                        noverlap=125, axis=0)\npsd = psd.mean(axis=1)  # average over trials\n\n# Loop over frequencies and compute SNR\nskipbins = 1            # skip bins directly next to frequency of interest\nn_bins = int(3 / df)    # number of bins to average over\nsnr = np.zeros(len(bins))\nfor ibin in range(n_bins + 1, len(bins) - n_bins - 1):\n    numer = psd[ibin]\n    irange = np.r_[np.arange(ibin - n_bins, ibin - skipbins),\n                    np.arange(ibin + skipbins + 1, ibin + n_bins)]\n    denom = np.mean(psd[irange])\n    snr[ibin] = numer / denom  # divide amplitude at peak by neighbours\n\nf, ax = plt.subplots(1)\nax.plot(bins, snr, 'o')\nax.axvline(target, ls=':', c='grey', zorder=0)\nax.set_ylabel('SNR (a.u.)')\nax.set_xlabel('Frequency (Hz)')\nax.set_xlim([0, 40])\nplt.show()"
      ]
    }
  ],
  "metadata": {
    "kernelspec": {
      "display_name": "Python 3",
      "language": "python",
      "name": "python3"
    },
    "language_info": {
      "codemirror_mode": {
        "name": "ipython",
        "version": 3
      },
      "file_extension": ".py",
      "mimetype": "text/x-python",
      "name": "python",
      "nbconvert_exporter": "python",
      "pygments_lexer": "ipython3",
      "version": "3.7.7"
    }
  },
  "nbformat": 4,
  "nbformat_minor": 0
}