{
  "cells": [
    {
      "cell_type": "code",
      "execution_count": null,
      "metadata": {
        "collapsed": false
      },
      "outputs": [],
      "source": [
        "%matplotlib inline"
      ]
    },
    {
      "cell_type": "markdown",
      "metadata": {},
      "source": [
        "\nRinging artifact reduction example\n==================================\n\nThis example shows how to subtract the impulse response from a filter to\nreduce ringing artifacts.\n"
      ]
    },
    {
      "cell_type": "code",
      "execution_count": null,
      "metadata": {
        "collapsed": false
      },
      "outputs": [],
      "source": [
        "import matplotlib.pyplot as plt\nimport numpy as np\n\nfrom scipy.signal import butter, lfilter\n\nfrom meegkit.detrend import reduce_ringing\n\n# import config  # plotting utils\n\nnp.random.seed(9)"
      ]
    },
    {
      "cell_type": "markdown",
      "metadata": {},
      "source": [
        "Detrending\n=============================================================================\n\n"
      ]
    },
    {
      "cell_type": "markdown",
      "metadata": {},
      "source": [
        "Basic example with a linear trend\n-----------------------------------------------------------------------------\nSimulate the effect of filtering a signal containing a discontinuity, and try\nto remove the resulting ringing artifact by subtracing the opposite of the\nimpulse response.\n\n"
      ]
    },
    {
      "cell_type": "code",
      "execution_count": null,
      "metadata": {
        "collapsed": false
      },
      "outputs": [],
      "source": [
        "x = np.arange(1000) < 1\n[b, a] = butter(6, 0.2)     # Butterworth filter design\nx = lfilter(b, a, x) * 50    # Filter data using above filter\nx = np.roll(x, 500)\nx = x[:, None] + np.random.randn(1000, 2)\ny = reduce_ringing(x, samples=np.array([500]))\n\nplt.figure()\nplt.plot(x + np.array([-10, 10]), 'C0', label='before')\nplt.plot(y + np.array([-10, 10]), 'C1:', label='after')\nplt.legend()\nplt.show()"
      ]
    }
  ],
  "metadata": {
    "kernelspec": {
      "display_name": "Python 3",
      "language": "python",
      "name": "python3"
    },
    "language_info": {
      "codemirror_mode": {
        "name": "ipython",
        "version": 3
      },
      "file_extension": ".py",
      "mimetype": "text/x-python",
      "name": "python",
      "nbconvert_exporter": "python",
      "pygments_lexer": "ipython3",
      "version": "3.7.7"
    }
  },
  "nbformat": 4,
  "nbformat_minor": 0
}